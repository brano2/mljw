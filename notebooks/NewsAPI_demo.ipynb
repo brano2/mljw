{
 "cells": [
  {
   "cell_type": "code",
   "execution_count": 4,
   "metadata": {},
   "outputs": [],
   "source": [
    "import os\n",
    "\n",
    "from newsapi import NewsApiClient\n",
    "import pandas as pd\n",
    "\n",
    "# from .cloud_functions.analyze_text import get_annotations, "
   ]
  },
  {
   "cell_type": "code",
   "execution_count": 3,
   "metadata": {},
   "outputs": [],
   "source": [
    "# Init\n",
    "newsapi = NewsApiClient(api_key=os.getenv('NEWSAPI_KEY'))\n",
    "\n",
    "# /v2/top-headlines\n",
    "top_headlines = newsapi.get_top_headlines(q='bitcoin',\n",
    "#                                           sources='bbc-news,the-verge',\n",
    "                                          category='business',\n",
    "                                          language='en',\n",
    "                                          country='us')\n",
    "\n",
    "# /v2/everything\n",
    "all_articles = newsapi.get_everything(q='bitcoin',\n",
    "                                      sources='bbc-news,the-verge',\n",
    "                                      domains='bbc.co.uk,techcrunch.com',\n",
    "                                      language='en',\n",
    "                                      sort_by='relevancy',\n",
    "                                      page=2)\n",
    "\n",
    "# /v2/sources\n",
    "sources = newsapi.get_sources()"
   ]
  },
  {
   "cell_type": "code",
   "execution_count": 10,
   "metadata": {},
   "outputs": [
    {
     "data": {
      "text/plain": [
       "3"
      ]
     },
     "execution_count": 10,
     "metadata": {},
     "output_type": "execute_result"
    }
   ],
   "source": [
    "top_headlines['totalResults']"
   ]
  },
  {
   "cell_type": "code",
   "execution_count": 11,
   "metadata": {},
   "outputs": [
    {
     "data": {
      "text/plain": [
       "[{'source': {'id': None, 'name': 'Newsbtc.com'},\n",
       "  'author': None,\n",
       "  'title': 'Bitcoin to See a “Golden” Short Opportunity if it Taps This Level - newsBTC',\n",
       "  'description': \"Top analysts are noting that a strong resistance level that exists just above Bitcoin's current price region may be enough to spark a major BTC selloff.\",\n",
       "  'url': 'https://www.newsbtc.com/2020/02/29/bitcoin-to-see-a-golden-short-opportunity-if-it-taps-this-level/',\n",
       "  'urlToImage': 'https://www.newsbtc.com/wp-content/uploads/2020/02/shutterstock_1159289515-1200x780.jpg',\n",
       "  'publishedAt': '2020-02-29T18:01:29Z',\n",
       "  'content': 'Bitcoins intense selloff has slowed over the past 24-hours, with bulls garnering some notable buying pressure within the lower-$8,000 region, subsequently leading BTC to enter a short-term bout of consolidation around $8,600.\\r\\nAlthough bulls have shown some s… [+2895 chars]'},\n",
       " {'source': {'id': None, 'name': 'Cointelegraph.com'},\n",
       "  'author': 'Michaël van de Poppe',\n",
       "  'title': 'Bitcoin Price Falls $1,400 in One Week — Is the Bear Market Back? - Cointelegraph',\n",
       "  'description': 'After falling $1.4K in a week Bitcoin’s bullish trend appears extinguished but finding support at the 21-WMA could reopen the path to $10.4K',\n",
       "  'url': 'https://cointelegraph.com/news/bitcoin-price-falls-1-400-in-one-week-is-the-bear-market-back',\n",
       "  'urlToImage': 'https://images.cointelegraph.com/images/740_aHR0cHM6Ly9zMy5jb2ludGVsZWdyYXBoLmNvbS9zdG9yYWdlL3VwbG9hZHMvdmlldy9iNDVkMTg0NzhkNWZjM2U3ZmViYjgxOTI3YTk5ZTUwZS5qcGc=.jpg',\n",
       "  'publishedAt': '2020-02-29T17:48:43Z',\n",
       "  'content': 'This week the equity markets experienced their worst week in 12 years and as this meltdown took place the crypto market also took a hit.\\xa0\\r\\nBitcoin (BTC) and the cryptocurrency market saw a significant selloff this week and this outcome is relatively reasonabl… [+5882 chars]'},\n",
       " {'source': {'id': 'business-insider', 'name': 'Business Insider'},\n",
       "  'author': 'Theron Mohamed',\n",
       "  'title': 'Warren Buffett discussed Apple, bitcoin, coronavirus, and Bernie Sanders in an interview this week. Here .. - Business Insider',\n",
       "  'description': 'Warren Buffett discussed Apple, bitcoin, coronavirus, and Bernie Sanders in an interview this week. Here are his 18 best quotes. (BRK.A)',\n",
       "  'url': 'https://markets.businessinsider.com/currencies/news/warren-buffett-best-quotes-apple-bitcoin-coronavirus-bernie-sanders-stocks-2020-2-1028950623',\n",
       "  'urlToImage': 'https://images.markets.businessinsider.com/image/5b3a055b4e04d328008b45c5-1024/gettyimages-492444164-1.jpg',\n",
       "  'publishedAt': '2020-02-28T17:28:56Z',\n",
       "  'content': 'Paul Morigi / Stringer / Getty Images\\r\\nWarren Buffett is renowned for making witty and insightful comments that many investors turn to for guidance.\\r\\nThe 89-year-old investor and Berkshire Hathaway CEO offered several gems about Apple, bitcoin, coronavirus, t… [+3492 chars]'}]"
      ]
     },
     "execution_count": 11,
     "metadata": {},
     "output_type": "execute_result"
    }
   ],
   "source": [
    "top_headlines['articles']"
   ]
  },
  {
   "cell_type": "code",
   "execution_count": 14,
   "metadata": {},
   "outputs": [
    {
     "data": {
      "text/plain": [
       "(dict, dict_keys(['status', 'totalResults', 'articles']), 16)"
      ]
     },
     "execution_count": 14,
     "metadata": {},
     "output_type": "execute_result"
    }
   ],
   "source": [
    "type(all_articles), all_articles.keys(), all_articles['totalResults']"
   ]
  },
  {
   "cell_type": "code",
   "execution_count": 17,
   "metadata": {},
   "outputs": [
    {
     "data": {
      "text/plain": [
       "(dict, dict_keys(['status', 'sources']), 'ok')"
      ]
     },
     "execution_count": 17,
     "metadata": {},
     "output_type": "execute_result"
    }
   ],
   "source": [
    "type(sources), sources.keys(), sources['status']"
   ]
  },
  {
   "cell_type": "code",
   "execution_count": 19,
   "metadata": {},
   "outputs": [
    {
     "data": {
      "text/plain": [
       "(129,\n",
       " dict_keys(['id', 'name', 'description', 'url', 'category', 'language', 'country']))"
      ]
     },
     "execution_count": 19,
     "metadata": {},
     "output_type": "execute_result"
    }
   ],
   "source": [
    "len(sources['sources']), sources['sources'][0].keys()"
   ]
  },
  {
   "cell_type": "code",
   "execution_count": 73,
   "metadata": {},
   "outputs": [],
   "source": [
    "articles = newsapi.get_everything(q='\"Boris Johnson\" \"David Frost\" outrage',\n",
    "                                  language='en',\n",
    "                                  sort_by='relevancy')"
   ]
  },
  {
   "cell_type": "code",
   "execution_count": 74,
   "metadata": {},
   "outputs": [
    {
     "data": {
      "text/plain": [
       "(dict, dict_keys(['status', 'totalResults', 'articles']), 1, 1)"
      ]
     },
     "execution_count": 74,
     "metadata": {},
     "output_type": "execute_result"
    }
   ],
   "source": [
    "type(articles), articles.keys(), articles['totalResults'], len(articles['articles'])"
   ]
  },
  {
   "cell_type": "code",
   "execution_count": 75,
   "metadata": {},
   "outputs": [
    {
     "data": {
      "text/plain": [
       "[{'source': {'id': None, 'name': 'Spectator.co.uk'},\n",
       "  'author': 'Nick Cohen',\n",
       "  'title': 'It’s time to pick a side in Boris Johnson’s war on the media',\n",
       "  'description': 'Boris Johnson is the first party leader of the media age. Winston Churchill and Michael Foot wrote extensively. But Johnson\\xa0is\\xa0a journalist. Before he went into politics, producing Tory commentary and…',\n",
       "  'url': 'https://blogs.spectator.co.uk/2020/02/its-time-to-pick-a-side-in-boris-johnsons-war-on-the-media/',\n",
       "  'urlToImage': 'https://spectatorblogs.imgix.net/files/2020/02/GettyImages-1178657606.jpg?auto=compress,enhance,format&crop=faces,entropy,edges&fit=crop&w=1024&h=683',\n",
       "  'publishedAt': '2020-02-04T16:50:57Z',\n",
       "  'content': 'Boris Johnson is the first party leader of the media age. Winston Churchill and Michael Foot wrote extensively. But Johnson\\xa0is\\xa0a journalist. Before he went into politics, producing Tory commentary and editing this magazine were the achievements that defined h… [+6077 chars]'}]"
      ]
     },
     "execution_count": 75,
     "metadata": {},
     "output_type": "execute_result"
    }
   ],
   "source": [
    "articles['articles']"
   ]
  },
  {
   "cell_type": "code",
   "execution_count": 5,
   "metadata": {},
   "outputs": [],
   "source": [
    "df = pd.DataFrame({\"col1\": [1,2,3], \"col2\": [10,20,30]})"
   ]
  },
  {
   "cell_type": "code",
   "execution_count": 6,
   "metadata": {},
   "outputs": [
    {
     "data": {
      "text/html": [
       "<div>\n",
       "<style scoped>\n",
       "    .dataframe tbody tr th:only-of-type {\n",
       "        vertical-align: middle;\n",
       "    }\n",
       "\n",
       "    .dataframe tbody tr th {\n",
       "        vertical-align: top;\n",
       "    }\n",
       "\n",
       "    .dataframe thead th {\n",
       "        text-align: right;\n",
       "    }\n",
       "</style>\n",
       "<table border=\"1\" class=\"dataframe\">\n",
       "  <thead>\n",
       "    <tr style=\"text-align: right;\">\n",
       "      <th></th>\n",
       "      <th>col1</th>\n",
       "      <th>col2</th>\n",
       "    </tr>\n",
       "  </thead>\n",
       "  <tbody>\n",
       "    <tr>\n",
       "      <th>0</th>\n",
       "      <td>1</td>\n",
       "      <td>10</td>\n",
       "    </tr>\n",
       "    <tr>\n",
       "      <th>1</th>\n",
       "      <td>2</td>\n",
       "      <td>20</td>\n",
       "    </tr>\n",
       "    <tr>\n",
       "      <th>2</th>\n",
       "      <td>3</td>\n",
       "      <td>30</td>\n",
       "    </tr>\n",
       "  </tbody>\n",
       "</table>\n",
       "</div>"
      ],
      "text/plain": [
       "   col1  col2\n",
       "0     1    10\n",
       "1     2    20\n",
       "2     3    30"
      ]
     },
     "execution_count": 6,
     "metadata": {},
     "output_type": "execute_result"
    }
   ],
   "source": [
    "df"
   ]
  },
  {
   "cell_type": "code",
   "execution_count": 11,
   "metadata": {},
   "outputs": [
    {
     "name": "stdout",
     "output_type": "stream",
     "text": [
      "<class 'int'> 1\n",
      "<class 'int'> 2\n"
     ]
    }
   ],
   "source": [
    "for x in df.col1[:2]:\n",
    "    print(type(x), x)"
   ]
  },
  {
   "cell_type": "code",
   "execution_count": null,
   "metadata": {},
   "outputs": [],
   "source": []
  }
 ],
 "metadata": {
  "kernelspec": {
   "display_name": "Python 3",
   "language": "python",
   "name": "python3"
  },
  "language_info": {
   "codemirror_mode": {
    "name": "ipython",
    "version": 3
   },
   "file_extension": ".py",
   "mimetype": "text/x-python",
   "name": "python",
   "nbconvert_exporter": "python",
   "pygments_lexer": "ipython3",
   "version": "3.7.6"
  }
 },
 "nbformat": 4,
 "nbformat_minor": 4
}
